{
 "cells": [
  {
   "cell_type": "code",
   "execution_count": 1,
   "id": "35cb2a48",
   "metadata": {},
   "outputs": [
    {
     "name": "stdout",
     "output_type": "stream",
     "text": [
      "0.13026666666666667 0.1383 0.0\n",
      "0.9030666666666667 0.9066 1.0\n",
      "0.9238 0.925 2.0\n",
      "0.9361833333333334 0.935 3.0\n",
      "0.9447333333333333 0.9441 4.0\n",
      "0.9509 0.9489 5.0\n",
      "0.95485 0.9528 6.0\n",
      "0.9614333333333334 0.9581 7.0\n",
      "0.9638166666666667 0.9605 8.0\n",
      "0.9667 0.9623 9.0\n",
      "0.9695 0.9664 10.0\n",
      "0.9704166666666667 0.9664 11.0\n",
      "0.9731 0.9675 12.0\n",
      "0.9727166666666667 0.9683 13.0\n",
      "0.9762833333333333 0.9695 14.0\n",
      "0.9785833333333334 0.9705 15.0\n",
      "0.97735 0.9689 16.0\n"
     ]
    },
    {
     "data": {
      "image/png": "[encoded data removed]",
      "text/plain": [
       "<Figure size 432x288 with 1 Axes>"
      ]
     },
     "metadata": {
      "needs_background": "light"
     },
     "output_type": "display_data"
    }
   ],
   "source": [
    "import sys, os\n",
    "\n",
    "sys.path.append(os.pardir)\n",
    "\n",
    "from dataset.mnist import load_mnist\n",
    "from project1.network import Network\n",
    "import numpy as np\n",
    "import matplotlib.pyplot as plt\n",
    "\n",
    "(x_train, t_train), (x_test, t_test) = load_mnist(normalize=True, one_hot_label=True)\n",
    "\n",
    "network = Network(input_size=784, hidden_size=50, output_size=10)\n",
    "\n",
    "iters_num = 10000\n",
    "train_size = x_train.shape[0]\n",
    "batch_size = 100\n",
    "learning_rate = 0.1\n",
    "\n",
    "# 훈련 / 테스트\n",
    "train_acc_list = []\n",
    "test_acc_list = []\n",
    "\n",
    "iter_per_epoch = max(train_size / batch_size, 1)\n",
    "\n",
    "for i in range(iters_num):\n",
    "    # 미니배치 랜덤 선택\n",
    "    batch_mask = np.random.choice(train_size, batch_size)\n",
    "    x_batch = x_train[batch_mask]\n",
    "    t_batch = t_train[batch_mask]\n",
    "\n",
    "    # 갱신 ([손실함수 기울기 * 학습률]을 이용)\n",
    "    grad = network.gradient(x_batch, t_batch)\n",
    "    for key in (\"W1\", \"b1\", \"W2\", \"b2\"):\n",
    "        network.params[key] -= learning_rate * grad[key]\n",
    "\n",
    "    # 에폭마다 기록하기\n",
    "    if i % iter_per_epoch == 0:\n",
    "        train_acc = network.accuracy(x_train, t_train)\n",
    "        test_acc = network.accuracy(x_test, t_test)\n",
    "        train_acc_list.append(train_acc)\n",
    "        test_acc_list.append(test_acc)\n",
    "        print(train_acc, test_acc, i / iter_per_epoch)\n",
    "\n",
    "# 그래프로 나타내기\n",
    "plt.title(\"SGD\")\n",
    "plt.plot(train_acc_list, color=\"red\")\n",
    "plt.plot(test_acc_list, color=\"blue\")\n",
    "plt.xlabel(\"epoch\")\n",
    "plt.ylabel(\"accuracy\")\n",
    "plt.show()\n"
   ]
  }
 ],
 "metadata": {
  "kernelspec": {
   "display_name": "Python 3 (ipykernel)",
   "language": "python",
   "name": "python3"
  },
  "language_info": {
   "codemirror_mode": {
    "name": "ipython",
    "version": 3
   },
   "file_extension": ".py",
   "mimetype": "text/x-python",
   "name": "python",
   "nbconvert_exporter": "python",
   "pygments_lexer": "ipython3",
   "version": "3.8.10"
  }
 },
 "nbformat": 4,
 "nbformat_minor": 5
}
