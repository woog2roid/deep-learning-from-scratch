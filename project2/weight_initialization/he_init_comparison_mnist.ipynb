{
 "cells": [
  {
   "cell_type": "code",
   "execution_count": 1,
   "id": "33b8c997",
   "metadata": {},
   "outputs": [],
   "source": [
    "import sys\n",
    "\n",
    "sys.path.append('../../')\n",
    "from dataset.mnist import load_mnist\n",
    "from project2.network import Network\n",
    "import numpy as np\n",
    "import matplotlib.pyplot as plt\n",
    "\n",
    "from common.optimizer.sgd import *"
   ]
  },
  {
   "cell_type": "code",
   "execution_count": 2,
   "id": "3440d81e",
   "metadata": {},
   "outputs": [],
   "source": [
    "# 1. MNIST 데이터 로드\n",
    "(x_train, t_train), (x_test, t_test) = load_mnist(normalize=True)\n",
    "train_size = x_train.shape[0]"
   ]
  },
  {
   "cell_type": "code",
   "execution_count": 3,
   "id": "15d47a67",
   "metadata": {},
   "outputs": [],
   "source": [
    "# 2. 학습 관련 변수 초기화\n",
    "batch_size = 128\n",
    "max_iterations = 2000\n",
    "\n",
    "optimizer = SGD()\n",
    "weight_init_methods = [\"He\", \"Xavier\", \"1.0\", \"0.1\", \"0.01\", \"0.001\"]\n",
    "\n",
    "graph_colors = {\"He\": \"r\", \"Xavier\": \"g\", \"1.0\": \"y\", \"0.1\": \"b\", \"0.01\": \"m\", \"0.001\": \"c\"}"
   ]
  },
  {
   "cell_type": "code",
   "execution_count": 4,
   "id": "d5a0dd5a",
   "metadata": {
    "scrolled": false
   },
   "outputs": [],
   "source": [
    "# 3. Relu + He Initialization 최적화 학습 비교\n",
    "# 3-1. 네트워크 초기화\n",
    "relu_networks = {}\n",
    "relu_train_loss = {}\n",
    "\n",
    "for key in weight_init_methods:\n",
    "    relu_networks[key] = Network(\n",
    "        input_size=784,\n",
    "        output_size=10,\n",
    "        hidden_size_list=[100, 80, 50, 50, 50],\n",
    "        activation_function=\"relu\",\n",
    "        weight_init_std=key,\n",
    "    )\n",
    "    relu_train_loss[key] = []"
   ]
  },
  {
   "cell_type": "code",
   "execution_count": 5,
   "id": "44b3261f",
   "metadata": {},
   "outputs": [],
   "source": [
    "# 3-2. 훈련 및 비교\n",
    "for i in range(max_iterations):\n",
    "    batch_mask = np.random.choice(train_size, batch_size)\n",
    "    x_batch = x_train[batch_mask]\n",
    "    t_batch = t_train[batch_mask]\n",
    "\n",
    "    for key in weight_init_methods:\n",
    "        grads = relu_networks[key].gradient(x_batch, t_batch)\n",
    "        optimizer.update(relu_networks[key].params, grads)\n",
    "\n",
    "        loss = relu_networks[key].loss(x_batch, t_batch)\n",
    "        relu_train_loss[key].append(loss)"
   ]
  },
  {
   "cell_type": "code",
   "execution_count": 6,
   "id": "b719848b",
   "metadata": {
    "scrolled": false
   },
   "outputs": [
    {
     "data": {
      "image/png": "[encoded data removed]",
      "text/plain": [
       "<Figure size 432x288 with 1 Axes>"
      ]
     },
     "metadata": {
      "needs_background": "light"
     },
     "output_type": "display_data"
    }
   ],
   "source": [
    "# 3-3. 결과 그래프 출력\n",
    "x = np.arange(max_iterations)\n",
    "for key in weight_init_methods:\n",
    "    plt.plot(x, relu_train_loss[key], graph_colors[key], label=key)\n",
    "plt.xlabel(\"iterations\")\n",
    "plt.ylabel(\"loss\")\n",
    "plt.legend()\n",
    "plt.show()"
   ]
  }
 ],
 "metadata": {
  "kernelspec": {
   "display_name": "Python 3 (ipykernel)",
   "language": "python",
   "name": "python3"
  },
  "language_info": {
   "codemirror_mode": {
    "name": "ipython",
    "version": 3
   },
   "file_extension": ".py",
   "mimetype": "text/x-python",
   "name": "python",
   "nbconvert_exporter": "python",
   "pygments_lexer": "ipython3",
   "version": "3.8.10"
  }
 },
 "nbformat": 4,
 "nbformat_minor": 5
}
